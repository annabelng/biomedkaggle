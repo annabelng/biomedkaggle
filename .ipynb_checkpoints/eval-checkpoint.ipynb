{
 "cells": [
  {
   "cell_type": "code",
   "execution_count": 1,
   "id": "ec590399",
   "metadata": {},
   "outputs": [],
   "source": [
    "import re\n",
    "import sklearn\n",
    "import pandas as pd\n",
    "import numpy as np\n",
    "import matplotlib.pyplot as plt\n",
    "#import seaborn as sns\n",
    "import os\n",
    "%matplotlib inline\n",
    "\n",
    "# some code to control figure aeshetics\n",
    "#sns.set_style(\"ticks\")\n",
    "#sns.set_context(\"notebook\", font_scale=1.5, rc={\"lines.linewidth\": 2.5})"
   ]
  },
  {
   "cell_type": "code",
   "execution_count": 2,
   "id": "bc7aa91a",
   "metadata": {},
   "outputs": [],
   "source": [
    "basedir = os.getcwd()\n",
    "datadir = basedir + '/data'"
   ]
  },
  {
   "cell_type": "code",
   "execution_count": 35,
   "id": "3b9b9908-d7a7-4047-9944-1d020d64db7c",
   "metadata": {},
   "outputs": [
    {
     "data": {
      "text/plain": [
       "array([[  0,   0,   0,   1,   0,   0, 108,   0,   0],\n",
       "       [  0,   0,   0,   0,   0,   0,  99,   0,   0],\n",
       "       [  0,   0,   0,   2,   0,   0,  14,   0,   0],\n",
       "       [  0,   0,   0,  24,   0,   0, 115,   0,   0],\n",
       "       [  0,   0,   0,   0,   0,   0,  35,   0,   0],\n",
       "       [  0,   0,   0,   0,   0,   0,  57,   0,   0],\n",
       "       [  0,   0,   0,   1,   0,   0, 195,   0,   0],\n",
       "       [  0,   0,   0,   0,   0,   0,   5,   0,   0],\n",
       "       [  0,   0,   0,   0,   0,   0,   7,   0,   0]])"
      ]
     },
     "execution_count": 35,
     "metadata": {},
     "output_type": "execute_result"
    }
   ],
   "source": [
    "from sklearn.metrics import confusion_matrix, ConfusionMatrixDisplay\n",
    "\n",
    "y_true = pd.read_csv(datadir + '/test_label.csv')\n",
    "y_true = y_true.iloc[:,0].tolist()\n",
    "\n",
    "y_pred = pd.read_csv(basedir + '/predictions')\n",
    "y_pred = y_pred.iloc[:,0].tolist()\n",
    "\n",
    "confusion_matrix(y_true, y_pred, labels=[0,1,2,3,4,5,6,7,8])"
   ]
  },
  {
   "cell_type": "code",
   "execution_count": 36,
   "id": "6da065c0-151c-4784-8954-a34e8d53d628",
   "metadata": {},
   "outputs": [
    {
     "ename": "AttributeError",
     "evalue": "type object 'ConfusionMatrixDisplay' has no attribute 'from_predictions'",
     "output_type": "error",
     "traceback": [
      "\u001b[0;31m---------------------------------------------------------------------------\u001b[0m",
      "\u001b[0;31mAttributeError\u001b[0m                            Traceback (most recent call last)",
      "Input \u001b[0;32mIn [36]\u001b[0m, in \u001b[0;36m<module>\u001b[0;34m\u001b[0m\n\u001b[0;32m----> 1\u001b[0m \u001b[43mConfusionMatrixDisplay\u001b[49m\u001b[38;5;241;43m.\u001b[39;49m\u001b[43mfrom_predictions\u001b[49m(y_true, y_pred,labels \u001b[38;5;241m=\u001b[39m [\u001b[38;5;241m0\u001b[39m,\u001b[38;5;241m1\u001b[39m,\u001b[38;5;241m2\u001b[39m,\u001b[38;5;241m3\u001b[39m,\u001b[38;5;241m4\u001b[39m,\u001b[38;5;241m5\u001b[39m,\u001b[38;5;241m6\u001b[39m,\u001b[38;5;241m7\u001b[39m,\u001b[38;5;241m8\u001b[39m])\n",
      "\u001b[0;31mAttributeError\u001b[0m: type object 'ConfusionMatrixDisplay' has no attribute 'from_predictions'"
     ]
    }
   ],
   "source": [
    "ConfusionMatrixDisplay.from_predictions(y_true, y_pred,labels = [0,1,2,3,4,5,6,7,8])"
   ]
  },
  {
   "cell_type": "code",
   "execution_count": null,
   "id": "b4c6b273-25b1-4b4b-a39b-8a7bdbb8e6b3",
   "metadata": {},
   "outputs": [],
   "source": []
  }
 ],
 "metadata": {
  "kernelspec": {
   "display_name": "Python 3 (ipykernel)",
   "language": "python",
   "name": "python3"
  },
  "language_info": {
   "codemirror_mode": {
    "name": "ipython",
    "version": 3
   },
   "file_extension": ".py",
   "mimetype": "text/x-python",
   "name": "python",
   "nbconvert_exporter": "python",
   "pygments_lexer": "ipython3",
   "version": "3.8.12"
  }
 },
 "nbformat": 4,
 "nbformat_minor": 5
}
